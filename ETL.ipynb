{
 "cells": [
  {
   "cell_type": "markdown",
   "metadata": {},
   "source": [
    "## Yelp"
   ]
  },
  {
   "cell_type": "markdown",
   "metadata": {},
   "source": [
    "### reviews"
   ]
  },
  {
   "cell_type": "code",
   "execution_count": 1,
   "metadata": {},
   "outputs": [],
   "source": [
    "import pandas as pd"
   ]
  },
  {
   "cell_type": "code",
   "execution_count": 2,
   "metadata": {},
   "outputs": [],
   "source": [
    "reviews = pd.read_csv(\"d:\\\\Downloads\\\\bq-results-20241021-182102-1729534874175.csv\")"
   ]
  },
  {
   "cell_type": "code",
   "execution_count": 3,
   "metadata": {},
   "outputs": [],
   "source": [
    "# Pasamos la columna date a formato date\n",
    "reviews['date'] = pd.to_datetime(reviews['date'], format='%Y-%m-%d %H:%M:%S UTC')\n"
   ]
  },
  {
   "cell_type": "code",
   "execution_count": 4,
   "metadata": {},
   "outputs": [
    {
     "data": {
      "text/html": [
       "<div>\n",
       "<style scoped>\n",
       "    .dataframe tbody tr th:only-of-type {\n",
       "        vertical-align: middle;\n",
       "    }\n",
       "\n",
       "    .dataframe tbody tr th {\n",
       "        vertical-align: top;\n",
       "    }\n",
       "\n",
       "    .dataframe thead th {\n",
       "        text-align: right;\n",
       "    }\n",
       "</style>\n",
       "<table border=\"1\" class=\"dataframe\">\n",
       "  <thead>\n",
       "    <tr style=\"text-align: right;\">\n",
       "      <th></th>\n",
       "      <th>cool</th>\n",
       "      <th>stars</th>\n",
       "      <th>date</th>\n",
       "      <th>funny</th>\n",
       "      <th>useful</th>\n",
       "    </tr>\n",
       "  </thead>\n",
       "  <tbody>\n",
       "    <tr>\n",
       "      <th>count</th>\n",
       "      <td>40000.000000</td>\n",
       "      <td>40000.00000</td>\n",
       "      <td>40000</td>\n",
       "      <td>40000.000000</td>\n",
       "      <td>40000.000000</td>\n",
       "    </tr>\n",
       "    <tr>\n",
       "      <th>mean</th>\n",
       "      <td>0.406900</td>\n",
       "      <td>3.89025</td>\n",
       "      <td>2016-10-07 06:43:31.074099968</td>\n",
       "      <td>0.269475</td>\n",
       "      <td>0.830550</td>\n",
       "    </tr>\n",
       "    <tr>\n",
       "      <th>min</th>\n",
       "      <td>0.000000</td>\n",
       "      <td>2.00000</td>\n",
       "      <td>2005-05-18 00:28:34</td>\n",
       "      <td>0.000000</td>\n",
       "      <td>0.000000</td>\n",
       "    </tr>\n",
       "    <tr>\n",
       "      <th>25%</th>\n",
       "      <td>0.000000</td>\n",
       "      <td>3.00000</td>\n",
       "      <td>2014-09-13 09:08:40.500000</td>\n",
       "      <td>0.000000</td>\n",
       "      <td>0.000000</td>\n",
       "    </tr>\n",
       "    <tr>\n",
       "      <th>50%</th>\n",
       "      <td>0.000000</td>\n",
       "      <td>4.00000</td>\n",
       "      <td>2017-03-06 00:44:27.500000</td>\n",
       "      <td>0.000000</td>\n",
       "      <td>0.000000</td>\n",
       "    </tr>\n",
       "    <tr>\n",
       "      <th>75%</th>\n",
       "      <td>0.000000</td>\n",
       "      <td>5.00000</td>\n",
       "      <td>2019-03-10 02:13:01.249999872</td>\n",
       "      <td>0.000000</td>\n",
       "      <td>1.000000</td>\n",
       "    </tr>\n",
       "    <tr>\n",
       "      <th>max</th>\n",
       "      <td>72.000000</td>\n",
       "      <td>5.00000</td>\n",
       "      <td>2022-01-19 17:18:47</td>\n",
       "      <td>35.000000</td>\n",
       "      <td>324.000000</td>\n",
       "    </tr>\n",
       "    <tr>\n",
       "      <th>std</th>\n",
       "      <td>1.587371</td>\n",
       "      <td>1.01224</td>\n",
       "      <td>NaN</td>\n",
       "      <td>1.161052</td>\n",
       "      <td>2.721493</td>\n",
       "    </tr>\n",
       "  </tbody>\n",
       "</table>\n",
       "</div>"
      ],
      "text/plain": [
       "               cool        stars                           date         funny  \\\n",
       "count  40000.000000  40000.00000                          40000  40000.000000   \n",
       "mean       0.406900      3.89025  2016-10-07 06:43:31.074099968      0.269475   \n",
       "min        0.000000      2.00000            2005-05-18 00:28:34      0.000000   \n",
       "25%        0.000000      3.00000     2014-09-13 09:08:40.500000      0.000000   \n",
       "50%        0.000000      4.00000     2017-03-06 00:44:27.500000      0.000000   \n",
       "75%        0.000000      5.00000  2019-03-10 02:13:01.249999872      0.000000   \n",
       "max       72.000000      5.00000            2022-01-19 17:18:47     35.000000   \n",
       "std        1.587371      1.01224                            NaN      1.161052   \n",
       "\n",
       "             useful  \n",
       "count  40000.000000  \n",
       "mean       0.830550  \n",
       "min        0.000000  \n",
       "25%        0.000000  \n",
       "50%        0.000000  \n",
       "75%        1.000000  \n",
       "max      324.000000  \n",
       "std        2.721493  "
      ]
     },
     "execution_count": 4,
     "metadata": {},
     "output_type": "execute_result"
    }
   ],
   "source": [
    "# cool va de 0 a 72\n",
    "# stars va 2 a 5\n",
    "# funny de 0 a 35\n",
    "# useful de 0 a 324\n",
    "reviews.describe()"
   ]
  },
  {
   "cell_type": "markdown",
   "metadata": {},
   "source": [
    "### bussines\n"
   ]
  },
  {
   "cell_type": "code",
   "execution_count": 5,
   "metadata": {},
   "outputs": [],
   "source": [
    "import pandas as pd\n",
    "\n",
    "# Cargar el archivo .pkl\n",
    "df = pd.read_pickle(\"D:\\\\Desktop\\\\proyecto_grupal\\\\business.pkl\")"
   ]
  },
  {
   "cell_type": "code",
   "execution_count": 6,
   "metadata": {},
   "outputs": [],
   "source": [
    "# Borrar columnas duplicadas\n",
    "duplicated_columns = df.columns[df.columns.duplicated()]\n",
    "\n",
    "# Eliminar columnas duplicadas\n",
    "df = df.loc[:, ~df.columns.duplicated()]"
   ]
  },
  {
   "cell_type": "code",
   "execution_count": 7,
   "metadata": {},
   "outputs": [],
   "source": [
    "# Filtramos por florida\n",
    "df_business= df[df[\"state\"].isin([\"FL\"])]\n"
   ]
  },
  {
   "cell_type": "code",
   "execution_count": 8,
   "metadata": {},
   "outputs": [],
   "source": [
    "# Filtramos por restaurantes\n",
    "df_business = df_business[df_business[\"categories\"].str.contains(r\"(?i)\\brestaurants\\b\", na=False)] "
   ]
  },
  {
   "cell_type": "code",
   "execution_count": 9,
   "metadata": {},
   "outputs": [],
   "source": [
    "# Reemplazamos los nan por desconocidos para no tener problemas en el modelo de machine learning\n",
    "df_business[\"address\"] = df_business[\"address\"].fillna('Desconocido')\n",
    "df_business[\"postal_code\"] = df_business[\"postal_code\"].fillna('Desconocido')"
   ]
  },
  {
   "cell_type": "code",
   "execution_count": 10,
   "metadata": {},
   "outputs": [],
   "source": [
    "# Hacemos un nuevo dataframe de la columna desanidada attributes\n",
    "from pandas import json_normalize\n",
    "df_attributes = json_normalize(df_business['attributes'])"
   ]
  },
  {
   "cell_type": "code",
   "execution_count": 11,
   "metadata": {},
   "outputs": [],
   "source": [
    "# Borramos columnas que no necesitamos \n",
    "df_business.drop(columns=['latitude', 'longitude',\n",
    "       'attributes', 'hours'],inplace= True)"
   ]
  },
  {
   "cell_type": "code",
   "execution_count": 12,
   "metadata": {},
   "outputs": [],
   "source": [
    "# Guardar como archivo CSV\n",
    "df_business.to_csv(\"df_business_limpio.csv\", index=False)\n",
    "df_attributes.to_csv(\"df_attributes.csv\")"
   ]
  },
  {
   "cell_type": "markdown",
   "metadata": {},
   "source": [
    "Los 0 son los restaurantes que no tienen el servicio y los 1 son los que si tienen el servicio"
   ]
  },
  {
   "cell_type": "code",
   "execution_count": 13,
   "metadata": {},
   "outputs": [],
   "source": [
    "# Reemplazar True por 1 y False por 0\n",
    "df_attributes.replace({True: 1, False: 0}, inplace=True)\n",
    "\n",
    "# Reemplazar los NaN por 0\n",
    "df_attributes.fillna(0, inplace=True)"
   ]
  },
  {
   "cell_type": "code",
   "execution_count": 14,
   "metadata": {},
   "outputs": [
    {
     "name": "stderr",
     "output_type": "stream",
     "text": [
      "C:\\Users\\LENOVO\\AppData\\Local\\Temp\\ipykernel_3396\\3663465635.py:2: FutureWarning: DataFrame.applymap has been deprecated. Use DataFrame.map instead.\n",
      "  df_attributes = df_attributes.applymap(lambda x: x.replace(\"u'\", \"\").replace(\"'\", \"\") if isinstance(x, str) else x)\n"
     ]
    }
   ],
   "source": [
    "# Reemplazar u' por nada en todas las columnas de tipo string\n",
    "df_attributes = df_attributes.applymap(lambda x: x.replace(\"u'\", \"\").replace(\"'\", \"\") if isinstance(x, str) else x)\n",
    "\n",
    "# Reemplazar True por 1 y False por 0\n",
    "df_attributes[\"WiFi\"].replace({\"free\": 1, \"no\": 0}, inplace=True)\n"
   ]
  },
  {
   "cell_type": "markdown",
   "metadata": {},
   "source": [
    "### Join entre df_business_limpio y df_reviews"
   ]
  },
  {
   "cell_type": "markdown",
   "metadata": {},
   "source": [
    "reviews tiene 40mil registros"
   ]
  },
  {
   "cell_type": "code",
   "execution_count": 15,
   "metadata": {},
   "outputs": [],
   "source": [
    "df_yelp = pd.merge(df_business,reviews,on=\"business_id\",how=\"inner\")"
   ]
  },
  {
   "cell_type": "code",
   "execution_count": 16,
   "metadata": {},
   "outputs": [
    {
     "data": {
      "text/html": [
       "<div>\n",
       "<style scoped>\n",
       "    .dataframe tbody tr th:only-of-type {\n",
       "        vertical-align: middle;\n",
       "    }\n",
       "\n",
       "    .dataframe tbody tr th {\n",
       "        vertical-align: top;\n",
       "    }\n",
       "\n",
       "    .dataframe thead th {\n",
       "        text-align: right;\n",
       "    }\n",
       "</style>\n",
       "<table border=\"1\" class=\"dataframe\">\n",
       "  <thead>\n",
       "    <tr style=\"text-align: right;\">\n",
       "      <th></th>\n",
       "      <th>business_id</th>\n",
       "      <th>name</th>\n",
       "      <th>address</th>\n",
       "      <th>city</th>\n",
       "      <th>state</th>\n",
       "      <th>postal_code</th>\n",
       "      <th>stars_x</th>\n",
       "      <th>review_count</th>\n",
       "      <th>is_open</th>\n",
       "      <th>categories</th>\n",
       "      <th>text</th>\n",
       "      <th>cool</th>\n",
       "      <th>stars_y</th>\n",
       "      <th>date</th>\n",
       "      <th>funny</th>\n",
       "      <th>review_id</th>\n",
       "      <th>useful</th>\n",
       "      <th>user_id</th>\n",
       "    </tr>\n",
       "  </thead>\n",
       "  <tbody>\n",
       "    <tr>\n",
       "      <th>0</th>\n",
       "      <td>seKihQKpGGnCeLuELRQPSQ</td>\n",
       "      <td>Twin Peaks</td>\n",
       "      <td>6880 E 82nd St</td>\n",
       "      <td>Indianapolis</td>\n",
       "      <td>FL</td>\n",
       "      <td>46250</td>\n",
       "      <td>3.5</td>\n",
       "      <td>257</td>\n",
       "      <td>1</td>\n",
       "      <td>Sports Bars, American (New), American (Traditi...</td>\n",
       "      <td>Good was on par with your typical sports bar. ...</td>\n",
       "      <td>0</td>\n",
       "      <td>3</td>\n",
       "      <td>2015-01-11 22:49:33</td>\n",
       "      <td>0</td>\n",
       "      <td>CSebyfJjT740KKgE6IPYcg</td>\n",
       "      <td>0</td>\n",
       "      <td>ZYNEE_VRshepHB599zUWcA</td>\n",
       "    </tr>\n",
       "    <tr>\n",
       "      <th>1</th>\n",
       "      <td>seKihQKpGGnCeLuELRQPSQ</td>\n",
       "      <td>Twin Peaks</td>\n",
       "      <td>6880 E 82nd St</td>\n",
       "      <td>Indianapolis</td>\n",
       "      <td>FL</td>\n",
       "      <td>46250</td>\n",
       "      <td>3.5</td>\n",
       "      <td>257</td>\n",
       "      <td>1</td>\n",
       "      <td>Sports Bars, American (New), American (Traditi...</td>\n",
       "      <td>With chain restaurants, I write short reviews ...</td>\n",
       "      <td>0</td>\n",
       "      <td>4</td>\n",
       "      <td>2019-07-08 00:18:19</td>\n",
       "      <td>3</td>\n",
       "      <td>B5aECxALkQZgQQQ4oQiVSA</td>\n",
       "      <td>0</td>\n",
       "      <td>_TKXaTPT2Yu0rRFqYzs44g</td>\n",
       "    </tr>\n",
       "    <tr>\n",
       "      <th>2</th>\n",
       "      <td>seKihQKpGGnCeLuELRQPSQ</td>\n",
       "      <td>Twin Peaks</td>\n",
       "      <td>6880 E 82nd St</td>\n",
       "      <td>Indianapolis</td>\n",
       "      <td>FL</td>\n",
       "      <td>46250</td>\n",
       "      <td>3.5</td>\n",
       "      <td>257</td>\n",
       "      <td>1</td>\n",
       "      <td>Sports Bars, American (New), American (Traditi...</td>\n",
       "      <td>Been wanting to come to twin peaks for a while...</td>\n",
       "      <td>0</td>\n",
       "      <td>5</td>\n",
       "      <td>2022-01-18 20:36:24</td>\n",
       "      <td>0</td>\n",
       "      <td>uOzC-IXnlc5hJ2h-0jNRKQ</td>\n",
       "      <td>0</td>\n",
       "      <td>ZphdnOBaO5Qd3STxXjspVw</td>\n",
       "    </tr>\n",
       "    <tr>\n",
       "      <th>3</th>\n",
       "      <td>ppFCk9aQkM338Rgwpl2F5A</td>\n",
       "      <td>Wawa</td>\n",
       "      <td>3604 Chestnut St</td>\n",
       "      <td>Philadelphia</td>\n",
       "      <td>FL</td>\n",
       "      <td>19104</td>\n",
       "      <td>3.0</td>\n",
       "      <td>56</td>\n",
       "      <td>1</td>\n",
       "      <td>Restaurants, Automotive, Delis, Gas Stations, ...</td>\n",
       "      <td>This place is pretty well-run - it's always cl...</td>\n",
       "      <td>0</td>\n",
       "      <td>4</td>\n",
       "      <td>2009-01-25 04:08:52</td>\n",
       "      <td>0</td>\n",
       "      <td>PUNdXZqu6PvqhOWnsqIkAw</td>\n",
       "      <td>1</td>\n",
       "      <td>OZTZgCcxO7fcFkZ3LYDroA</td>\n",
       "    </tr>\n",
       "    <tr>\n",
       "      <th>4</th>\n",
       "      <td>uDQgmudYDKiB6n4vwbEeDg</td>\n",
       "      <td>Chrysalis</td>\n",
       "      <td>9040 Carothers Pkwy</td>\n",
       "      <td>Franklin</td>\n",
       "      <td>FL</td>\n",
       "      <td>37067</td>\n",
       "      <td>4.5</td>\n",
       "      <td>112</td>\n",
       "      <td>1</td>\n",
       "      <td>Restaurants, Italian, Nightlife, Bars, Cocktai...</td>\n",
       "      <td>We ordered take-out from this new place, and s...</td>\n",
       "      <td>1</td>\n",
       "      <td>4</td>\n",
       "      <td>2021-02-15 19:44:15</td>\n",
       "      <td>1</td>\n",
       "      <td>QhOnn7yj_oheUXjzAsT6ug</td>\n",
       "      <td>4</td>\n",
       "      <td>Z18Bze20mEVqRXAfe8DjZg</td>\n",
       "    </tr>\n",
       "    <tr>\n",
       "      <th>5</th>\n",
       "      <td>Edg22x3CZkIv0GUib2oEFA</td>\n",
       "      <td>Mellow Mushroom</td>\n",
       "      <td>8227 Oak St</td>\n",
       "      <td>New Orleans</td>\n",
       "      <td>FL</td>\n",
       "      <td>70118</td>\n",
       "      <td>3.5</td>\n",
       "      <td>149</td>\n",
       "      <td>0</td>\n",
       "      <td>Pizza, Restaurants, Bars, Nightlife, Sandwiches</td>\n",
       "      <td>Fun ambiance and food is good not great. Servi...</td>\n",
       "      <td>0</td>\n",
       "      <td>3</td>\n",
       "      <td>2019-09-14 22:43:20</td>\n",
       "      <td>0</td>\n",
       "      <td>YMpRLhAt7r2FYVp0JSpfdw</td>\n",
       "      <td>0</td>\n",
       "      <td>9lAp1eOFlvmA21pvLn6UsQ</td>\n",
       "    </tr>\n",
       "    <tr>\n",
       "      <th>6</th>\n",
       "      <td>Edg22x3CZkIv0GUib2oEFA</td>\n",
       "      <td>Mellow Mushroom</td>\n",
       "      <td>8227 Oak St</td>\n",
       "      <td>New Orleans</td>\n",
       "      <td>FL</td>\n",
       "      <td>70118</td>\n",
       "      <td>3.5</td>\n",
       "      <td>149</td>\n",
       "      <td>0</td>\n",
       "      <td>Pizza, Restaurants, Bars, Nightlife, Sandwiches</td>\n",
       "      <td>The good. We had the pizza. Delicious crust. C...</td>\n",
       "      <td>0</td>\n",
       "      <td>3</td>\n",
       "      <td>2016-03-25 03:10:54</td>\n",
       "      <td>0</td>\n",
       "      <td>mNgCyN6iuDHrJFqLwEBqXQ</td>\n",
       "      <td>0</td>\n",
       "      <td>NEgCqpLI1QCN5TxKn23fiA</td>\n",
       "    </tr>\n",
       "    <tr>\n",
       "      <th>7</th>\n",
       "      <td>W57cR9a7XP6RX56MSWHJJA</td>\n",
       "      <td>Las Margaritas</td>\n",
       "      <td>514 S Rampart St</td>\n",
       "      <td>New Orleans</td>\n",
       "      <td>FL</td>\n",
       "      <td>70163</td>\n",
       "      <td>3.5</td>\n",
       "      <td>58</td>\n",
       "      <td>0</td>\n",
       "      <td>Mexican, Restaurants</td>\n",
       "      <td>Fast and friendly service.  My grandson said t...</td>\n",
       "      <td>0</td>\n",
       "      <td>3</td>\n",
       "      <td>2016-06-19 00:57:10</td>\n",
       "      <td>0</td>\n",
       "      <td>c1DeVcZ58Vmc7m75rSj1zQ</td>\n",
       "      <td>0</td>\n",
       "      <td>-ya_NmklzNvBXQs8mdiwfw</td>\n",
       "    </tr>\n",
       "    <tr>\n",
       "      <th>8</th>\n",
       "      <td>-7GDqSUaXrpC8Ql7nDBxWA</td>\n",
       "      <td>B2 Bluefin</td>\n",
       "      <td>401 E City Ave</td>\n",
       "      <td>Bala Cynwyd</td>\n",
       "      <td>FL</td>\n",
       "      <td>19004</td>\n",
       "      <td>4.0</td>\n",
       "      <td>92</td>\n",
       "      <td>0</td>\n",
       "      <td>Nightlife, Bars, Cocktail Bars, Japanese, Rest...</td>\n",
       "      <td>Great atmosphere. Delicious food. Weird servic...</td>\n",
       "      <td>0</td>\n",
       "      <td>4</td>\n",
       "      <td>2018-06-23 00:55:43</td>\n",
       "      <td>0</td>\n",
       "      <td>ZRf8qZM1Rq21e5cI3HIcpA</td>\n",
       "      <td>0</td>\n",
       "      <td>EsMMxTs0arl-c0a4ZuYtsg</td>\n",
       "    </tr>\n",
       "    <tr>\n",
       "      <th>9</th>\n",
       "      <td>XwoXi0M66RU6Gouq-DSDHw</td>\n",
       "      <td>G Peppers Grill &amp; Tavern</td>\n",
       "      <td>8745 Gunn Hwy</td>\n",
       "      <td>Odessa</td>\n",
       "      <td>FL</td>\n",
       "      <td>33556</td>\n",
       "      <td>4.0</td>\n",
       "      <td>82</td>\n",
       "      <td>1</td>\n",
       "      <td>Restaurants, Mexican, American (Traditional)</td>\n",
       "      <td>Starting Thursday, 12.15.11\\nCOWBOY QUESADILLA...</td>\n",
       "      <td>0</td>\n",
       "      <td>5</td>\n",
       "      <td>2011-12-12 14:07:48</td>\n",
       "      <td>0</td>\n",
       "      <td>Rx4XxoA2U4LFCkGjoJqPjA</td>\n",
       "      <td>0</td>\n",
       "      <td>Mxb3qiFonMIoFzAUPThRmQ</td>\n",
       "    </tr>\n",
       "  </tbody>\n",
       "</table>\n",
       "</div>"
      ],
      "text/plain": [
       "              business_id                      name              address  \\\n",
       "0  seKihQKpGGnCeLuELRQPSQ                Twin Peaks       6880 E 82nd St   \n",
       "1  seKihQKpGGnCeLuELRQPSQ                Twin Peaks       6880 E 82nd St   \n",
       "2  seKihQKpGGnCeLuELRQPSQ                Twin Peaks       6880 E 82nd St   \n",
       "3  ppFCk9aQkM338Rgwpl2F5A                      Wawa     3604 Chestnut St   \n",
       "4  uDQgmudYDKiB6n4vwbEeDg                 Chrysalis  9040 Carothers Pkwy   \n",
       "5  Edg22x3CZkIv0GUib2oEFA           Mellow Mushroom          8227 Oak St   \n",
       "6  Edg22x3CZkIv0GUib2oEFA           Mellow Mushroom          8227 Oak St   \n",
       "7  W57cR9a7XP6RX56MSWHJJA            Las Margaritas     514 S Rampart St   \n",
       "8  -7GDqSUaXrpC8Ql7nDBxWA                B2 Bluefin       401 E City Ave   \n",
       "9  XwoXi0M66RU6Gouq-DSDHw  G Peppers Grill & Tavern        8745 Gunn Hwy   \n",
       "\n",
       "           city state postal_code stars_x review_count is_open  \\\n",
       "0  Indianapolis    FL       46250     3.5          257       1   \n",
       "1  Indianapolis    FL       46250     3.5          257       1   \n",
       "2  Indianapolis    FL       46250     3.5          257       1   \n",
       "3  Philadelphia    FL       19104     3.0           56       1   \n",
       "4      Franklin    FL       37067     4.5          112       1   \n",
       "5   New Orleans    FL       70118     3.5          149       0   \n",
       "6   New Orleans    FL       70118     3.5          149       0   \n",
       "7   New Orleans    FL       70163     3.5           58       0   \n",
       "8   Bala Cynwyd    FL       19004     4.0           92       0   \n",
       "9        Odessa    FL       33556     4.0           82       1   \n",
       "\n",
       "                                          categories  \\\n",
       "0  Sports Bars, American (New), American (Traditi...   \n",
       "1  Sports Bars, American (New), American (Traditi...   \n",
       "2  Sports Bars, American (New), American (Traditi...   \n",
       "3  Restaurants, Automotive, Delis, Gas Stations, ...   \n",
       "4  Restaurants, Italian, Nightlife, Bars, Cocktai...   \n",
       "5    Pizza, Restaurants, Bars, Nightlife, Sandwiches   \n",
       "6    Pizza, Restaurants, Bars, Nightlife, Sandwiches   \n",
       "7                               Mexican, Restaurants   \n",
       "8  Nightlife, Bars, Cocktail Bars, Japanese, Rest...   \n",
       "9       Restaurants, Mexican, American (Traditional)   \n",
       "\n",
       "                                                text  cool  stars_y  \\\n",
       "0  Good was on par with your typical sports bar. ...     0        3   \n",
       "1  With chain restaurants, I write short reviews ...     0        4   \n",
       "2  Been wanting to come to twin peaks for a while...     0        5   \n",
       "3  This place is pretty well-run - it's always cl...     0        4   \n",
       "4  We ordered take-out from this new place, and s...     1        4   \n",
       "5  Fun ambiance and food is good not great. Servi...     0        3   \n",
       "6  The good. We had the pizza. Delicious crust. C...     0        3   \n",
       "7  Fast and friendly service.  My grandson said t...     0        3   \n",
       "8  Great atmosphere. Delicious food. Weird servic...     0        4   \n",
       "9  Starting Thursday, 12.15.11\\nCOWBOY QUESADILLA...     0        5   \n",
       "\n",
       "                 date  funny               review_id  useful  \\\n",
       "0 2015-01-11 22:49:33      0  CSebyfJjT740KKgE6IPYcg       0   \n",
       "1 2019-07-08 00:18:19      3  B5aECxALkQZgQQQ4oQiVSA       0   \n",
       "2 2022-01-18 20:36:24      0  uOzC-IXnlc5hJ2h-0jNRKQ       0   \n",
       "3 2009-01-25 04:08:52      0  PUNdXZqu6PvqhOWnsqIkAw       1   \n",
       "4 2021-02-15 19:44:15      1  QhOnn7yj_oheUXjzAsT6ug       4   \n",
       "5 2019-09-14 22:43:20      0  YMpRLhAt7r2FYVp0JSpfdw       0   \n",
       "6 2016-03-25 03:10:54      0  mNgCyN6iuDHrJFqLwEBqXQ       0   \n",
       "7 2016-06-19 00:57:10      0  c1DeVcZ58Vmc7m75rSj1zQ       0   \n",
       "8 2018-06-23 00:55:43      0  ZRf8qZM1Rq21e5cI3HIcpA       0   \n",
       "9 2011-12-12 14:07:48      0  Rx4XxoA2U4LFCkGjoJqPjA       0   \n",
       "\n",
       "                  user_id  \n",
       "0  ZYNEE_VRshepHB599zUWcA  \n",
       "1  _TKXaTPT2Yu0rRFqYzs44g  \n",
       "2  ZphdnOBaO5Qd3STxXjspVw  \n",
       "3  OZTZgCcxO7fcFkZ3LYDroA  \n",
       "4  Z18Bze20mEVqRXAfe8DjZg  \n",
       "5  9lAp1eOFlvmA21pvLn6UsQ  \n",
       "6  NEgCqpLI1QCN5TxKn23fiA  \n",
       "7  -ya_NmklzNvBXQs8mdiwfw  \n",
       "8  EsMMxTs0arl-c0a4ZuYtsg  \n",
       "9  Mxb3qiFonMIoFzAUPThRmQ  "
      ]
     },
     "execution_count": 16,
     "metadata": {},
     "output_type": "execute_result"
    }
   ],
   "source": [
    "df_yelp.head(10)"
   ]
  },
  {
   "cell_type": "markdown",
   "metadata": {},
   "source": [
    "## Google Maps"
   ]
  },
  {
   "cell_type": "markdown",
   "metadata": {},
   "source": [
    "### Reviews estados Florida"
   ]
  },
  {
   "cell_type": "markdown",
   "metadata": {},
   "source": [
    "Review florida"
   ]
  },
  {
   "cell_type": "code",
   "execution_count": 17,
   "metadata": {},
   "outputs": [],
   "source": [
    "import json\n",
    "import pandas as pd\n",
    "import glob\n",
    "from pandas import json_normalize"
   ]
  },
  {
   "cell_type": "code",
   "execution_count": 18,
   "metadata": {},
   "outputs": [],
   "source": [
    "\n",
    "# Ruta a los archivos JSON\n",
    "ruta_archivos = \"D:\\\\Downloads\\\\review-Florida\\\\*.json\"\n",
    "\n",
    "# Inicializar una lista para almacenar los datos\n",
    "datos = []\n",
    "\n",
    "# Leer cada archivo JSON\n",
    "for archivo in glob.glob(ruta_archivos):\n",
    "    with open(archivo, \"r\") as f:\n",
    "        for linea in f:\n",
    "            objeto = json.loads(linea)\n",
    "            datos.append(objeto)\n",
    "\n",
    "# Crear un DataFrame con todos los datos\n",
    "reviews_florida = pd.DataFrame(datos)"
   ]
  },
  {
   "cell_type": "code",
   "execution_count": 20,
   "metadata": {},
   "outputs": [
    {
     "data": {
      "text/html": [
       "<div>\n",
       "<style scoped>\n",
       "    .dataframe tbody tr th:only-of-type {\n",
       "        vertical-align: middle;\n",
       "    }\n",
       "\n",
       "    .dataframe tbody tr th {\n",
       "        vertical-align: top;\n",
       "    }\n",
       "\n",
       "    .dataframe thead th {\n",
       "        text-align: right;\n",
       "    }\n",
       "</style>\n",
       "<table border=\"1\" class=\"dataframe\">\n",
       "  <thead>\n",
       "    <tr style=\"text-align: right;\">\n",
       "      <th></th>\n",
       "      <th>user_id</th>\n",
       "      <th>name</th>\n",
       "      <th>time</th>\n",
       "      <th>rating</th>\n",
       "      <th>text</th>\n",
       "      <th>pics</th>\n",
       "      <th>resp</th>\n",
       "      <th>gmap_id</th>\n",
       "    </tr>\n",
       "  </thead>\n",
       "  <tbody>\n",
       "    <tr>\n",
       "      <th>0</th>\n",
       "      <td>101471856155148729010</td>\n",
       "      <td>Julie A. Gerber</td>\n",
       "      <td>1628003250740</td>\n",
       "      <td>1</td>\n",
       "      <td>Update: Their “reply” to my review amounted to...</td>\n",
       "      <td>None</td>\n",
       "      <td>{'time': 1627042799532, 'text': 'Thank you for...</td>\n",
       "      <td>0x8893863ea87bd5dd:0x9383ebf973e74abb</td>\n",
       "    </tr>\n",
       "    <tr>\n",
       "      <th>1</th>\n",
       "      <td>115477234789038326051</td>\n",
       "      <td>Martin Sheffield</td>\n",
       "      <td>1595031217005</td>\n",
       "      <td>5</td>\n",
       "      <td>He's a knowledgeable doctor but the way he run...</td>\n",
       "      <td>None</td>\n",
       "      <td>{'time': 1582464056733, 'text': 'Thank you for...</td>\n",
       "      <td>0x8893863ea87bd5dd:0x9383ebf973e74abb</td>\n",
       "    </tr>\n",
       "    <tr>\n",
       "      <th>2</th>\n",
       "      <td>101805010244892834381</td>\n",
       "      <td>Brian Truett</td>\n",
       "      <td>1522924253567</td>\n",
       "      <td>5</td>\n",
       "      <td>Best doctor I've ever had, I never wait to be ...</td>\n",
       "      <td>None</td>\n",
       "      <td>None</td>\n",
       "      <td>0x8893863ea87bd5dd:0x9383ebf973e74abb</td>\n",
       "    </tr>\n",
       "    <tr>\n",
       "      <th>3</th>\n",
       "      <td>106344422881493743981</td>\n",
       "      <td>Tina Sun</td>\n",
       "      <td>1467907819586</td>\n",
       "      <td>1</td>\n",
       "      <td>I was told he is a good doctor. I was trying t...</td>\n",
       "      <td>None</td>\n",
       "      <td>None</td>\n",
       "      <td>0x8893863ea87bd5dd:0x9383ebf973e74abb</td>\n",
       "    </tr>\n",
       "    <tr>\n",
       "      <th>4</th>\n",
       "      <td>100875113069561776529</td>\n",
       "      <td>James Haynes</td>\n",
       "      <td>1480683415081</td>\n",
       "      <td>5</td>\n",
       "      <td>Takes the time to actually get to know his pat...</td>\n",
       "      <td>None</td>\n",
       "      <td>None</td>\n",
       "      <td>0x8893863ea87bd5dd:0x9383ebf973e74abb</td>\n",
       "    </tr>\n",
       "    <tr>\n",
       "      <th>...</th>\n",
       "      <td>...</td>\n",
       "      <td>...</td>\n",
       "      <td>...</td>\n",
       "      <td>...</td>\n",
       "      <td>...</td>\n",
       "      <td>...</td>\n",
       "      <td>...</td>\n",
       "      <td>...</td>\n",
       "    </tr>\n",
       "    <tr>\n",
       "      <th>749995</th>\n",
       "      <td>103116157833516568554</td>\n",
       "      <td>Carmen Roman</td>\n",
       "      <td>1605310910233</td>\n",
       "      <td>5</td>\n",
       "      <td>None</td>\n",
       "      <td>None</td>\n",
       "      <td>None</td>\n",
       "      <td>0x88d8df729ca5eda7:0x8131504abdbfe7fe</td>\n",
       "    </tr>\n",
       "    <tr>\n",
       "      <th>749996</th>\n",
       "      <td>101308524654469917198</td>\n",
       "      <td>Linda Payette</td>\n",
       "      <td>1521892525593</td>\n",
       "      <td>5</td>\n",
       "      <td>None</td>\n",
       "      <td>None</td>\n",
       "      <td>None</td>\n",
       "      <td>0x88d8df729ca5eda7:0x8131504abdbfe7fe</td>\n",
       "    </tr>\n",
       "    <tr>\n",
       "      <th>749997</th>\n",
       "      <td>112274337653160939064</td>\n",
       "      <td>elmer Garcia</td>\n",
       "      <td>1541205269300</td>\n",
       "      <td>4</td>\n",
       "      <td>None</td>\n",
       "      <td>None</td>\n",
       "      <td>None</td>\n",
       "      <td>0x88d8df729ca5eda7:0x8131504abdbfe7fe</td>\n",
       "    </tr>\n",
       "    <tr>\n",
       "      <th>749998</th>\n",
       "      <td>106993940912678181321</td>\n",
       "      <td>Gerald Zehme</td>\n",
       "      <td>1529192818272</td>\n",
       "      <td>5</td>\n",
       "      <td>None</td>\n",
       "      <td>None</td>\n",
       "      <td>None</td>\n",
       "      <td>0x88d8df729ca5eda7:0x8131504abdbfe7fe</td>\n",
       "    </tr>\n",
       "    <tr>\n",
       "      <th>749999</th>\n",
       "      <td>106437730942114157272</td>\n",
       "      <td>J M</td>\n",
       "      <td>1605923284070</td>\n",
       "      <td>1</td>\n",
       "      <td>None</td>\n",
       "      <td>None</td>\n",
       "      <td>None</td>\n",
       "      <td>0x88d8df729ca5eda7:0x8131504abdbfe7fe</td>\n",
       "    </tr>\n",
       "  </tbody>\n",
       "</table>\n",
       "<p>750000 rows × 8 columns</p>\n",
       "</div>"
      ],
      "text/plain": [
       "                      user_id              name           time  rating  \\\n",
       "0       101471856155148729010   Julie A. Gerber  1628003250740       1   \n",
       "1       115477234789038326051  Martin Sheffield  1595031217005       5   \n",
       "2       101805010244892834381      Brian Truett  1522924253567       5   \n",
       "3       106344422881493743981          Tina Sun  1467907819586       1   \n",
       "4       100875113069561776529      James Haynes  1480683415081       5   \n",
       "...                       ...               ...            ...     ...   \n",
       "749995  103116157833516568554      Carmen Roman  1605310910233       5   \n",
       "749996  101308524654469917198     Linda Payette  1521892525593       5   \n",
       "749997  112274337653160939064      elmer Garcia  1541205269300       4   \n",
       "749998  106993940912678181321      Gerald Zehme  1529192818272       5   \n",
       "749999  106437730942114157272               J M  1605923284070       1   \n",
       "\n",
       "                                                     text  pics  \\\n",
       "0       Update: Their “reply” to my review amounted to...  None   \n",
       "1       He's a knowledgeable doctor but the way he run...  None   \n",
       "2       Best doctor I've ever had, I never wait to be ...  None   \n",
       "3       I was told he is a good doctor. I was trying t...  None   \n",
       "4       Takes the time to actually get to know his pat...  None   \n",
       "...                                                   ...   ...   \n",
       "749995                                               None  None   \n",
       "749996                                               None  None   \n",
       "749997                                               None  None   \n",
       "749998                                               None  None   \n",
       "749999                                               None  None   \n",
       "\n",
       "                                                     resp  \\\n",
       "0       {'time': 1627042799532, 'text': 'Thank you for...   \n",
       "1       {'time': 1582464056733, 'text': 'Thank you for...   \n",
       "2                                                    None   \n",
       "3                                                    None   \n",
       "4                                                    None   \n",
       "...                                                   ...   \n",
       "749995                                               None   \n",
       "749996                                               None   \n",
       "749997                                               None   \n",
       "749998                                               None   \n",
       "749999                                               None   \n",
       "\n",
       "                                      gmap_id  \n",
       "0       0x8893863ea87bd5dd:0x9383ebf973e74abb  \n",
       "1       0x8893863ea87bd5dd:0x9383ebf973e74abb  \n",
       "2       0x8893863ea87bd5dd:0x9383ebf973e74abb  \n",
       "3       0x8893863ea87bd5dd:0x9383ebf973e74abb  \n",
       "4       0x8893863ea87bd5dd:0x9383ebf973e74abb  \n",
       "...                                       ...  \n",
       "749995  0x88d8df729ca5eda7:0x8131504abdbfe7fe  \n",
       "749996  0x88d8df729ca5eda7:0x8131504abdbfe7fe  \n",
       "749997  0x88d8df729ca5eda7:0x8131504abdbfe7fe  \n",
       "749998  0x88d8df729ca5eda7:0x8131504abdbfe7fe  \n",
       "749999  0x88d8df729ca5eda7:0x8131504abdbfe7fe  \n",
       "\n",
       "[750000 rows x 8 columns]"
      ]
     },
     "execution_count": 20,
     "metadata": {},
     "output_type": "execute_result"
    }
   ],
   "source": [
    "reviews_florida"
   ]
  },
  {
   "cell_type": "code",
   "execution_count": 21,
   "metadata": {},
   "outputs": [],
   "source": [
    "# Borramos columnas que no necesitamos\n",
    "reviews_florida.drop(columns=[ 'time', 'pics','resp'],inplace=True)"
   ]
  },
  {
   "cell_type": "code",
   "execution_count": 22,
   "metadata": {},
   "outputs": [],
   "source": [
    "# Reemplazamos los Nan por \"Sin Nombre\" y \"Sin Comentario\"\n",
    "reviews_florida[\"name\"] = reviews_florida[\"name\"].fillna('Sin Nombre')\n",
    "reviews_florida[\"text\"] = reviews_florida[\"text\"].fillna('Sin Comentario')"
   ]
  },
  {
   "cell_type": "markdown",
   "metadata": {},
   "source": [
    "### metadata-sitios"
   ]
  },
  {
   "cell_type": "code",
   "execution_count": 68,
   "metadata": {},
   "outputs": [
    {
     "name": "stdout",
     "output_type": "stream",
     "text": [
      "ERROR! Session/line number was not unique in database. History logging moved to new session 427\n"
     ]
    }
   ],
   "source": [
    "# Ruta a los archivos JSON\n",
    "ruta_archivos = \"D:\\\\Downloads\\\\metadata-sitios\\\\*.json\"\n",
    "\n",
    "# Inicializar una lista para almacenar los datos\n",
    "datos = []\n",
    "\n",
    "# Leer cada archivo JSON\n",
    "for archivo in glob.glob(ruta_archivos):\n",
    "    with open(archivo, \"r\") as f:\n",
    "        for linea in f:\n",
    "            objeto = json.loads(linea)\n",
    "            datos.append(objeto)\n",
    "\n",
    "# Crear un DataFrame con todos los datos\n",
    "df_sitios = pd.DataFrame(datos)"
   ]
  },
  {
   "cell_type": "code",
   "execution_count": 101,
   "metadata": {},
   "outputs": [],
   "source": [
    "df_sitios.drop(columns=['Unnamed: 0', 'description', 'latitude','longitude','hours', 'state', 'relative_results', 'url',\"MISC\"],inplace=True)"
   ]
  },
  {
   "cell_type": "code",
   "execution_count": 116,
   "metadata": {},
   "outputs": [],
   "source": [
    "df_sitios[\"address\"]= df_sitios[\"address\"].fillna(\"Sin registro\")\n",
    "df_sitios[\"price\"]= df_sitios[\"price\"].fillna(\"Sin registro\")\n",
    "df_sitios[\"MISC\"]= df_sitios[\"MISC\"].fillna(\"Sin registro\")"
   ]
  },
  {
   "cell_type": "code",
   "execution_count": 72,
   "metadata": {},
   "outputs": [],
   "source": [
    "# Renombramos los nulos de la columna \"category\"\n",
    "df_sitios['category'] = df_sitios['category'].fillna('')\n",
    "\n",
    "# Filtramos bussines que sean restaurantes\n",
    "df_sitios = df_sitios[df_sitios['category'].astype(str).str.contains('restaurant', case=False)]"
   ]
  },
  {
   "cell_type": "markdown",
   "metadata": {},
   "source": [
    "### Hacemos un join con df_sitios y df_florida"
   ]
  },
  {
   "cell_type": "code",
   "execution_count": 74,
   "metadata": {},
   "outputs": [],
   "source": [
    "# Realizar el join\n",
    "df_google = pd.merge(df_sitios, reviews_florida, on='gmap_id', how='inner')"
   ]
  },
  {
   "cell_type": "code",
   "execution_count": 76,
   "metadata": {},
   "outputs": [],
   "source": [
    "df_google.rename(columns={\"name_x\": \"User\", \"name_y\": \"restaurant\"}, inplace=True)\n"
   ]
  },
  {
   "cell_type": "code",
   "execution_count": 78,
   "metadata": {},
   "outputs": [],
   "source": [
    "df_google.to_csv(\"df_google.csv\")"
   ]
  },
  {
   "cell_type": "markdown",
   "metadata": {},
   "source": [
    "## Modelo de machine learning"
   ]
  },
  {
   "cell_type": "code",
   "execution_count": 119,
   "metadata": {},
   "outputs": [],
   "source": [
    "import pandas as pd\n",
    "from sklearn.feature_extraction.text import TfidfVectorizer\n",
    "from sklearn.metrics.pairwise import linear_kernel"
   ]
  },
  {
   "cell_type": "code",
   "execution_count": 122,
   "metadata": {},
   "outputs": [],
   "source": [
    "# Limpiar datos: eliminar filas con texto nulo o vacío\n",
    "df = df.dropna(subset=['text'])  # Eliminar filas donde 'text' es None\n",
    "df = df[df['text'].str.strip() != '']  # Eliminar filas donde 'text' está vací"
   ]
  },
  {
   "cell_type": "code",
   "execution_count": 123,
   "metadata": {},
   "outputs": [],
   "source": [
    "# Vectorizar el texto\n",
    "tfidf = TfidfVectorizer(stop_words='english')\n",
    "tfidf_matrix = tfidf.fit_transform(df['text'])\n"
   ]
  },
  {
   "cell_type": "code",
   "execution_count": 124,
   "metadata": {},
   "outputs": [],
   "source": [
    "# Calcular la matriz de similitud\n",
    "cosine_sim = linear_kernel(tfidf_matrix, tfidf_matrix)"
   ]
  },
  {
   "cell_type": "code",
   "execution_count": 125,
   "metadata": {},
   "outputs": [],
   "source": [
    "def recommend_similar_restaurants(restaurant_name, cosine_sim=cosine_sim):\n",
    "    # Obtén el índice del restaurante que coincide con el nombre\n",
    "    idx = df[df['Name_restaurant'] == restaurant_name].index[0]\n",
    "    \n",
    "    # Obtén las puntuaciones de similitud de todas las filas con ese restaurante\n",
    "    sim_scores = list(enumerate(cosine_sim[idx]))\n",
    "    \n",
    "    # Ordena las restaurantes basados en la similitud\n",
    "    sim_scores = sorted(sim_scores, key=lambda x: x[1], reverse=True)\n",
    "    \n",
    "    # Obtener los 5 restaurantes más similares\n",
    "    sim_scores = sim_scores[1:6]  # Excluyendo el mismo restaurante\n",
    "    \n",
    "    # Obtén los índices de los restaurantes\n",
    "    restaurant_indices = [i[0] for i in sim_scores]\n",
    "    \n",
    "    # Retorna los restaurantes similares\n",
    "    return df.iloc[restaurant_indices]"
   ]
  },
  {
   "cell_type": "code",
   "execution_count": 137,
   "metadata": {},
   "outputs": [
    {
     "data": {
      "text/plain": [
       "'Alley Cat Seafood, Beer House & Wine Boutique'"
      ]
     },
     "execution_count": 137,
     "metadata": {},
     "output_type": "execute_result"
    }
   ],
   "source": [
    "df[\"Name_restaurant\"][2000]"
   ]
  },
  {
   "cell_type": "code",
   "execution_count": 138,
   "metadata": {},
   "outputs": [],
   "source": [
    "# Prueba la función\n",
    "recommended_restaurants = recommend_similar_restaurants(\"Alley Cat Seafood, Beer House & Wine Boutique\")\n"
   ]
  },
  {
   "cell_type": "code",
   "execution_count": 139,
   "metadata": {},
   "outputs": [
    {
     "data": {
      "text/plain": [
       "Name_restaurant\n",
       "Maoz Vegetarian               1\n",
       "Las Delicias De Clara         1\n",
       "Zócalo Folsom                 1\n",
       "Green Life Market             1\n",
       "Norkys Peruvian Restaurant    1\n",
       "Name: count, dtype: int64"
      ]
     },
     "execution_count": 139,
     "metadata": {},
     "output_type": "execute_result"
    }
   ],
   "source": [
    "recommended_restaurants[\"Name_restaurant\"].value_counts()"
   ]
  }
 ],
 "metadata": {
  "kernelspec": {
   "display_name": "Python 3",
   "language": "python",
   "name": "python3"
  },
  "language_info": {
   "codemirror_mode": {
    "name": "ipython",
    "version": 3
   },
   "file_extension": ".py",
   "mimetype": "text/x-python",
   "name": "python",
   "nbconvert_exporter": "python",
   "pygments_lexer": "ipython3",
   "version": "3.12.6"
  }
 },
 "nbformat": 4,
 "nbformat_minor": 2
}
